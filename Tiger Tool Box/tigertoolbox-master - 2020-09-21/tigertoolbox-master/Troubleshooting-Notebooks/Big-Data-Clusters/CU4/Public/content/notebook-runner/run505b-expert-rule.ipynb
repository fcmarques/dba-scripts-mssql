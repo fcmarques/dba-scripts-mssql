{
    "cells": [
        {
            "cell_type": "markdown",
            "metadata": {},
            "source": [
                "RUN505b - Sample - Expert rule (called by 505a)\n",
                "===============================================\n",
                "\n",
                "Description\n",
                "-----------\n",
                "\n",
                "### The action to take"
            ]
        },
        {
            "cell_type": "code",
            "execution_count": null,
            "metadata": {},
            "outputs": [],
            "source": [
                "print(\"Expert rule called successfully\")"
            ]
        },
        {
            "cell_type": "code",
            "execution_count": null,
            "metadata": {},
            "outputs": [],
            "source": [
                "print('Notebook execution complete.')"
            ]
        }
    ],
    "nbformat": 4,
    "nbformat_minor": 5,
    "metadata": {
        "kernelspec": {
            "name": "python3",
            "display_name": "Python 3"
        },
        "azdata": {
            "side_effects": true,
            "expert": {
                "rules": [
                    [
                        "RUN505a",
                        "code",
                        "stream",
                        "name",
                        "stdout",
                        "text",
                        ".\\*This is the expression to match"
                    ]
                ],
                "expanded_rules": [
                    [
                        5,
                        "../notebook-runner/run505c-expert-rule.ipynb",
                        "code",
                        "stream",
                        "name",
                        "stdout",
                        "text",
                        ".\\*Expert rule called successfully",
                        0
                    ]
                ]
            },
            "symlink": true
        }
    }
}