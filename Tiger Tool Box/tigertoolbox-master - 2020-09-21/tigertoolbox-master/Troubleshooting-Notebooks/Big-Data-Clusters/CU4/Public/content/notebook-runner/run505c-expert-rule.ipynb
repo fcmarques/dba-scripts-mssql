{
    "cells": [
        {
            "cell_type": "markdown",
            "metadata": {},
            "source": [
                "RUN505c - Sample - Expert rule (called by 505b)\n",
                "===============================================\n",
                "\n",
                "Description\n",
                "-----------\n",
                "\n",
                "### The action to take"
            ]
        },
        {
            "cell_type": "code",
            "execution_count": null,
            "metadata": {},
            "outputs": [],
            "source": [
                "print(\"All done\")"
            ]
        },
        {
            "cell_type": "code",
            "execution_count": null,
            "metadata": {},
            "outputs": [],
            "source": [
                "print('Notebook execution complete.')"
            ]
        }
    ],
    "nbformat": 4,
    "nbformat_minor": 5,
    "metadata": {
        "kernelspec": {
            "name": "python3",
            "display_name": "Python 3"
        },
        "azdata": {
            "side_effects": true,
            "expert": {
                "rules": [
                    [
                        "RUN505b",
                        "code",
                        "stream",
                        "name",
                        "stdout",
                        "text",
                        ".\\*Expert rule called successfully"
                    ]
                ]
            },
            "symlink": true
        }
    }
}